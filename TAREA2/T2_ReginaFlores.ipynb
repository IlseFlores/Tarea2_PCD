{
 "cells": [
  {
   "cell_type": "markdown",
   "source": [
    "## ¿Qué son MLOps y por qué son importantes?"
   ],
   "metadata": {
    "collapsed": false
   },
   "id": "a09f46f0b70bda8c"
  },
  {
   "cell_type": "markdown",
   "source": [
    "MLOps es la comunicación entre los científicos de datos y el equipo de operaciones o producción.  Es de naturaleza profundamente colaborativa , diseñado para eliminar el desperdicio, automatizar tanto como sea posible y producir conocimientos más ricos y consistentes con el aprendizaje automático. El aprendizaje automático puede cambiar las reglas del juego para una empresa.\n",
    "\n",
    "*¿Por qué mi organización debería adoptar MLOps?*\n",
    "MLOps permite a sus científicos de datos la libertad de encontrar respuestas.\n",
    "MLOps sigue un patrón similar a DevOps. Las prácticas que impulsan una integración perfecta entre su ciclo de desarrollo y su proceso de operaciones general también pueden transformar la forma en que maneja big data. MLOps genera conocimientos en los que puede confiar y poner en práctica más rápidamente.\n",
    "\n",
    "*¿Qué problemas resolverá MLOps?*\n",
    "Adoptar un enfoque MLOps podría ayudar a su organización de las siguientes maneras:\n",
    "\n",
    "1. Su equipo de operaciones tiene el conocimiento empresarial y su equipo de ciencia de datos comprende los datos. MLOps combina la experiencia de ambos campos para lograr un ML más eficiente que aproveche ambos conjuntos de habilidades.\n",
    "\n",
    "2. MLOps pone a su equipo de operaciones a la vanguardia de las nuevas regulaciones y mejores prácticas. Pueden hacerse cargo de los procesos regulatorios mientras su equipo de datos se concentra en implementar modelos creativos.\n",
    "\n",
    "> ML utiliza funciones matemáticas no intuitivas, por lo que requiere un monitoreo constante para garantizar que se este operando dentro de las regulaciones y que los programas brinden información de calidad. "
   ],
   "metadata": {
    "collapsed": false
   },
   "id": "1b4366dc96143786"
  },
  {
   "cell_type": "markdown",
   "source": [
    "https://odsc.medium.com/what-are-mlops-and-why-does-it-matter-8cff060d4067"
   ],
   "metadata": {
    "collapsed": false
   },
   "id": "50a1f4d3177123d4"
  }
 ],
 "metadata": {
  "kernelspec": {
   "display_name": "Python 3",
   "language": "python",
   "name": "python3"
  },
  "language_info": {
   "codemirror_mode": {
    "name": "ipython",
    "version": 2
   },
   "file_extension": ".py",
   "mimetype": "text/x-python",
   "name": "python",
   "nbconvert_exporter": "python",
   "pygments_lexer": "ipython2",
   "version": "2.7.6"
  }
 },
 "nbformat": 4,
 "nbformat_minor": 5
}
